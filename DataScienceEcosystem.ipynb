{
  "nbformat": 4,
  "nbformat_minor": 0,
  "metadata": {
    "colab": {
      "provenance": []
    },
    "kernelspec": {
      "name": "python3",
      "display_name": "Python 3"
    },
    "language_info": {
      "name": "python"
    }
  },
  "cells": [
    {
      "cell_type": "markdown",
      "source": [
        "# Data Science Tools and Ecosystem\n"
      ],
      "metadata": {
        "id": "lMlonP4e4cN9"
      }
    },
    {
      "cell_type": "markdown",
      "source": [
        "## In this notebook, Data Science Tools and Ecosystem are summarized."
      ],
      "metadata": {
        "id": "d7cx1lUO5Ibr"
      }
    },
    {
      "cell_type": "code",
      "source": [],
      "metadata": {
        "id": "C-_CNbzm4j-E"
      },
      "execution_count": null,
      "outputs": []
    },
    {
      "cell_type": "markdown",
      "source": [
        "### Some of the popular languages that Data Scientists use are:\n",
        "1. Python\n",
        "2. R\n",
        "3. SQL"
      ],
      "metadata": {
        "id": "UZUD0gkm6hsg"
      }
    },
    {
      "cell_type": "markdown",
      "source": [
        "### Some of the popular languages that Data Scientists use are:\n",
        "1. pandas\n",
        "2. NumPy\n",
        "3. Matplotlib"
      ],
      "metadata": {
        "id": "R8LcoMqp5ru1"
      }
    },
    {
      "cell_type": "markdown",
      "source": [
        "|Data Science Tools|\n",
        "|------|\n",
        "|Jupyter Notebook|\n",
        "|RStudio|\n",
        "|Apache Zeppelin|"
      ],
      "metadata": {
        "id": "y0oOCCq768Ai"
      }
    },
    {
      "cell_type": "code",
      "source": [],
      "metadata": {
        "id": "0pmWgN9X6Uo0"
      },
      "execution_count": null,
      "outputs": []
    },
    {
      "cell_type": "markdown",
      "source": [
        "### Below are a few examples of evaluating arithmetic expressions in Python"
      ],
      "metadata": {
        "id": "l0vExJdv7sod"
      }
    },
    {
      "cell_type": "code",
      "source": [],
      "metadata": {
        "id": "ne_9uvwE7xf-"
      },
      "execution_count": null,
      "outputs": []
    },
    {
      "cell_type": "code",
      "source": [
        "# This a simple arithmetic expression to mutiply then add integers.\n",
        "(3*4)+5"
      ],
      "metadata": {
        "colab": {
          "base_uri": "https://localhost:8080/"
        },
        "id": "SFxp6_kU7-rL",
        "outputId": "7c22b0d7-8952-4648-ee11-9be5008e7d5b"
      },
      "execution_count": 1,
      "outputs": [
        {
          "output_type": "execute_result",
          "data": {
            "text/plain": [
              "17"
            ]
          },
          "metadata": {},
          "execution_count": 1
        }
      ]
    },
    {
      "cell_type": "code",
      "source": [
        "# This will convert 200 minutes to hours by diving by 60.\n",
        "200 / 60"
      ],
      "metadata": {
        "colab": {
          "base_uri": "https://localhost:8080/"
        },
        "id": "-jAHiZpE8c2d",
        "outputId": "8b5b6a1f-206e-4ccf-8951-ebba5139e7b0"
      },
      "execution_count": 2,
      "outputs": [
        {
          "output_type": "execute_result",
          "data": {
            "text/plain": [
              "3.3333333333333335"
            ]
          },
          "metadata": {},
          "execution_count": 2
        }
      ]
    },
    {
      "cell_type": "code",
      "source": [],
      "metadata": {
        "id": "F3M48EkV8En_"
      },
      "execution_count": null,
      "outputs": []
    },
    {
      "cell_type": "markdown",
      "source": [
        "**Objectives:**\n",
        "- List popular languages for Data Science\n",
        "- Identify commonly used libraries in Data Science\n",
        "- Describe the development environment tools used in Data Science"
      ],
      "metadata": {
        "id": "gbd5qKKt9GaV"
      }
    },
    {
      "cell_type": "markdown",
      "source": [],
      "metadata": {
        "id": "uQFDiFVt9FSE"
      }
    },
    {
      "cell_type": "markdown",
      "source": [
        "## Author\n",
        "###### Abdullah"
      ],
      "metadata": {
        "id": "7QG9-nRS9ozy"
      }
    },
    {
      "cell_type": "code",
      "source": [],
      "metadata": {
        "id": "CoWSnL6990es"
      },
      "execution_count": null,
      "outputs": []
    }
  ]
}